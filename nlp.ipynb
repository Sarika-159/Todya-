{
 "cells": [
  {
   "cell_type": "code",
   "execution_count": 1,
   "metadata": {
    "colab": {
     "base_uri": "https://localhost:8080/"
    },
    "executionInfo": {
     "elapsed": 6372,
     "status": "ok",
     "timestamp": 1682491503240,
     "user": {
      "displayName": "Sarika Kokate",
      "userId": "14291067420357515060"
     },
     "user_tz": -330
    },
    "id": "eqh2EFHWSEoW",
    "outputId": "192b3d9a-6001-4874-8184-74e77ce95188"
   },
   "outputs": [
    {
     "name": "stdout",
     "output_type": "stream",
     "text": [
      "Defaulting to user installation because normal site-packages is not writeable\n",
      "Note: you may need to restart the kernel to use updated packages.\n"
     ]
    },
    {
     "name": "stderr",
     "output_type": "stream",
     "text": [
      "ERROR: Invalid requirement: '#'\n"
     ]
    }
   ],
   "source": [
    "pip install contractions  # Contraction Mapping (Did't = did not )\n"
   ]
  },
  {
   "cell_type": "code",
   "execution_count": 2,
   "metadata": {
    "colab": {
     "base_uri": "https://localhost:8080/"
    },
    "executionInfo": {
     "elapsed": 9972,
     "status": "ok",
     "timestamp": 1682491524889,
     "user": {
      "displayName": "Sarika Kokate",
      "userId": "14291067420357515060"
     },
     "user_tz": -330
    },
    "id": "X-3lNZzASUg0",
    "outputId": "d72fe08d-bdc6-4918-9d48-6e5b54077038"
   },
   "outputs": [
    {
     "name": "stdout",
     "output_type": "stream",
     "text": [
      "Defaulting to user installation because normal site-packages is not writeable\n",
      "Note: you may need to restart the kernel to use updated packages.\n"
     ]
    },
    {
     "name": "stderr",
     "output_type": "stream",
     "text": [
      "ERROR: Invalid requirement: '#'\n"
     ]
    }
   ],
   "source": [
    "pip install unidecode  # (handling the accented characters)"
   ]
  },
  {
   "cell_type": "code",
   "execution_count": 3,
   "metadata": {
    "colab": {
     "base_uri": "https://localhost:8080/"
    },
    "executionInfo": {
     "elapsed": 6650,
     "status": "ok",
     "timestamp": 1682491576142,
     "user": {
      "displayName": "Sarika Kokate",
      "userId": "14291067420357515060"
     },
     "user_tz": -330
    },
    "id": "XrNuXgugT2pl",
    "outputId": "d3cbd3fc-6942-4e6e-91d1-c14295618746"
   },
   "outputs": [
    {
     "name": "stdout",
     "output_type": "stream",
     "text": [
      "Defaulting to user installation because normal site-packages is not writeable\n",
      "Requirement already satisfied: autocorrect in c:\\users\\admin\\appdata\\roaming\\python\\python311\\site-packages (2.6.1)\n",
      "Note: you may need to restart the kernel to use updated packages.\n"
     ]
    }
   ],
   "source": [
    "pip install autocorrect "
   ]
  },
  {
   "cell_type": "code",
   "execution_count": 4,
   "metadata": {
    "executionInfo": {
     "elapsed": 2446,
     "status": "ok",
     "timestamp": 1682491585479,
     "user": {
      "displayName": "Sarika Kokate",
      "userId": "14291067420357515060"
     },
     "user_tz": -330
    },
    "id": "6Vl-kU38TB3U"
   },
   "outputs": [],
   "source": [
    "from nltk.tokenize import word_tokenize   # word tokenization\n",
    "from nltk.stem import WordNetLemmatizer  # prunning\n",
    "from nltk.corpus import stopwords         #\n",
    "from string import punctuation         #!,.,?,''\n",
    "import contractions\n",
    "from unidecode import unidecode\n",
    "import pandas as pd\n",
    "# ********************************************************\n",
    "from sklearn.feature_extraction.text import CountVectorizer, TfidfVectorizer\n",
    "from sklearn.naive_bayes import MultinomialNB\n",
    "from sklearn.metrics import accuracy_score\n",
    "from sklearn.model_selection import train_test_split\n",
    "from autocorrect import Speller"
   ]
  },
  {
   "cell_type": "code",
   "execution_count": 5,
   "metadata": {
    "colab": {
     "base_uri": "https://localhost:8080/",
     "height": 469
    },
    "executionInfo": {
     "elapsed": 673,
     "status": "ok",
     "timestamp": 1682491762823,
     "user": {
      "displayName": "Sarika Kokate",
      "userId": "14291067420357515060"
     },
     "user_tz": -330
    },
    "id": "Ws3kfhnDTz3V",
    "outputId": "47d41034-efbe-4c44-ff07-e989c19c3a3f"
   },
   "outputs": [
    {
     "data": {
      "text/html": [
       "<div>\n",
       "<style scoped>\n",
       "    .dataframe tbody tr th:only-of-type {\n",
       "        vertical-align: middle;\n",
       "    }\n",
       "\n",
       "    .dataframe tbody tr th {\n",
       "        vertical-align: top;\n",
       "    }\n",
       "\n",
       "    .dataframe thead th {\n",
       "        text-align: right;\n",
       "    }\n",
       "</style>\n",
       "<table border=\"1\" class=\"dataframe\">\n",
       "  <thead>\n",
       "    <tr style=\"text-align: right;\">\n",
       "      <th></th>\n",
       "      <th>text</th>\n",
       "      <th>label</th>\n",
       "    </tr>\n",
       "  </thead>\n",
       "  <tbody>\n",
       "    <tr>\n",
       "      <th>0</th>\n",
       "      <td>I grew up (b. 1965) watching and loving the Th...</td>\n",
       "      <td>0</td>\n",
       "    </tr>\n",
       "    <tr>\n",
       "      <th>1</th>\n",
       "      <td>When I put this movie in my DVD player, and sa...</td>\n",
       "      <td>0</td>\n",
       "    </tr>\n",
       "    <tr>\n",
       "      <th>2</th>\n",
       "      <td>Why do people who do not know what a particula...</td>\n",
       "      <td>0</td>\n",
       "    </tr>\n",
       "    <tr>\n",
       "      <th>3</th>\n",
       "      <td>Even though I have great interest in Biblical ...</td>\n",
       "      <td>0</td>\n",
       "    </tr>\n",
       "    <tr>\n",
       "      <th>4</th>\n",
       "      <td>Im a die hard Dads Army fan and nothing will e...</td>\n",
       "      <td>1</td>\n",
       "    </tr>\n",
       "    <tr>\n",
       "      <th>5</th>\n",
       "      <td>A terrible movie as everyone has said. What ma...</td>\n",
       "      <td>0</td>\n",
       "    </tr>\n",
       "    <tr>\n",
       "      <th>6</th>\n",
       "      <td>Finally watched this shocking movie last night...</td>\n",
       "      <td>1</td>\n",
       "    </tr>\n",
       "    <tr>\n",
       "      <th>7</th>\n",
       "      <td>I caught this film on AZN on cable. It sounded...</td>\n",
       "      <td>0</td>\n",
       "    </tr>\n",
       "    <tr>\n",
       "      <th>8</th>\n",
       "      <td>It may be the remake of 1987 Autumn's Tale aft...</td>\n",
       "      <td>1</td>\n",
       "    </tr>\n",
       "    <tr>\n",
       "      <th>9</th>\n",
       "      <td>My Super Ex Girlfriend turned out to be a plea...</td>\n",
       "      <td>1</td>\n",
       "    </tr>\n",
       "  </tbody>\n",
       "</table>\n",
       "</div>"
      ],
      "text/plain": [
       "                                                text  label\n",
       "0  I grew up (b. 1965) watching and loving the Th...      0\n",
       "1  When I put this movie in my DVD player, and sa...      0\n",
       "2  Why do people who do not know what a particula...      0\n",
       "3  Even though I have great interest in Biblical ...      0\n",
       "4  Im a die hard Dads Army fan and nothing will e...      1\n",
       "5  A terrible movie as everyone has said. What ma...      0\n",
       "6  Finally watched this shocking movie last night...      1\n",
       "7  I caught this film on AZN on cable. It sounded...      0\n",
       "8  It may be the remake of 1987 Autumn's Tale aft...      1\n",
       "9  My Super Ex Girlfriend turned out to be a plea...      1"
      ]
     },
     "execution_count": 5,
     "metadata": {},
     "output_type": "execute_result"
    }
   ],
   "source": [
    "data = pd.read_csv('Train.csv', engine=\"python\")\n",
    "data.head(10)"
   ]
  },
  {
   "cell_type": "code",
   "execution_count": 6,
   "metadata": {
    "colab": {
     "base_uri": "https://localhost:8080/"
    },
    "executionInfo": {
     "elapsed": 516,
     "status": "ok",
     "timestamp": 1682491811356,
     "user": {
      "displayName": "Sarika Kokate",
      "userId": "14291067420357515060"
     },
     "user_tz": -330
    },
    "id": "fATPz0LtUJBD",
    "outputId": "ce4f897f-3e65-463d-c045-3b018753bbb5"
   },
   "outputs": [
    {
     "data": {
      "text/plain": [
       "0        I grew up (b. 1965) watching and loving the Th...\n",
       "1        When I put this movie in my DVD player, and sa...\n",
       "2        Why do people who do not know what a particula...\n",
       "3        Even though I have great interest in Biblical ...\n",
       "4        Im a die hard Dads Army fan and nothing will e...\n",
       "                               ...                        \n",
       "39995    \"Western Union\" is something of a forgotten cl...\n",
       "39996    This movie is an incredible piece of work. It ...\n",
       "39997    My wife and I watched this movie because we pl...\n",
       "39998    When I first watched Flatliners, I was amazed....\n",
       "39999    Why would this film be so good, but only gross...\n",
       "Name: text, Length: 40000, dtype: object"
      ]
     },
     "execution_count": 6,
     "metadata": {},
     "output_type": "execute_result"
    }
   ],
   "source": [
    "data.text"
   ]
  },
  {
   "cell_type": "code",
   "execution_count": 7,
   "metadata": {
    "colab": {
     "base_uri": "https://localhost:8080/"
    },
    "executionInfo": {
     "elapsed": 2,
     "status": "ok",
     "timestamp": 1682491814673,
     "user": {
      "displayName": "Sarika Kokate",
      "userId": "14291067420357515060"
     },
     "user_tz": -330
    },
    "id": "dWILVecoU6DP",
    "outputId": "a0b64e88-7f6b-4706-886d-1d73a5210b66"
   },
   "outputs": [
    {
     "data": {
      "text/plain": [
       "0        0\n",
       "1        0\n",
       "2        0\n",
       "3        0\n",
       "4        1\n",
       "        ..\n",
       "39995    1\n",
       "39996    1\n",
       "39997    0\n",
       "39998    1\n",
       "39999    1\n",
       "Name: label, Length: 40000, dtype: int64"
      ]
     },
     "execution_count": 7,
     "metadata": {},
     "output_type": "execute_result"
    }
   ],
   "source": [
    "data.label"
   ]
  },
  {
   "cell_type": "code",
   "execution_count": 8,
   "metadata": {
    "colab": {
     "base_uri": "https://localhost:8080/",
     "height": 191
    },
    "executionInfo": {
     "elapsed": 650,
     "status": "ok",
     "timestamp": 1682491828475,
     "user": {
      "displayName": "Sarika Kokate",
      "userId": "14291067420357515060"
     },
     "user_tz": -330
    },
    "id": "ulNNvHo6U6hH",
    "outputId": "376996e0-3a00-4490-a019-bb7bba1dd9ef"
   },
   "outputs": [
    {
     "data": {
      "text/plain": [
       "\"When I put this movie in my DVD player, and sat down with a coke and some chips, I had some expectations. I was hoping that this movie would contain some of the strong-points of the first movie: Awsome animation, good flowing story, excellent voice cast, funny comedy and a kick-ass soundtrack. But, to my disappointment, not any of this is to be found in Atlantis: Milo's Return. Had I read some reviews first, I might not have been so let down. The following paragraph will be directed to those who have seen the first movie, and who enjoyed it primarily for the points mentioned.<br /><br />When the first scene appears, your in for a shock if you just picked Atlantis: Milo's Return from the display-case at your local videoshop (or whatever), and had the expectations I had. The music feels as a bad imitation of the first movie, and the voice cast has been replaced by a not so fitting one. (With the exception of a few characters, like the voice of Sweet). The actual drawings isnt that bad, but the animation in particular is a sad sight. The storyline is also pretty weak, as its more like three episodes of Schooby-Doo than the single adventurous story we got the last time. But dont misunderstand, it's not very good Schooby-Doo episodes. I didnt laugh a single time, although I might have sniggered once or twice.<br /><br />To the audience who haven't seen the first movie, or don't especially care for a similar sequel, here is a fast review of this movie as a stand-alone product: If you liked schooby-doo, you might like this movie. If you didn't, you could still enjoy this movie if you have nothing else to do. And I suspect it might be a good kids movie, but I wouldn't know. It might have been better if Milo's Return had been a three-episode series on a cartoon channel, or on breakfast TV.\""
      ]
     },
     "execution_count": 8,
     "metadata": {},
     "output_type": "execute_result"
    }
   ],
   "source": [
    "a = data['text'][1]\n",
    "a"
   ]
  },
  {
   "cell_type": "code",
   "execution_count": 9,
   "metadata": {},
   "outputs": [
    {
     "data": {
      "text/plain": [
       "1811"
      ]
     },
     "execution_count": 9,
     "metadata": {},
     "output_type": "execute_result"
    }
   ],
   "source": [
    "\n",
    "len(a)"
   ]
  },
  {
   "cell_type": "code",
   "execution_count": 10,
   "metadata": {
    "executionInfo": {
     "elapsed": 959,
     "status": "ok",
     "timestamp": 1682491973059,
     "user": {
      "displayName": "Sarika Kokate",
      "userId": "14291067420357515060"
     },
     "user_tz": -330
    },
    "id": "Gx7Xwsz7Vg-S"
   },
   "outputs": [],
   "source": [
    "from nltk.corpus import stopwords"
   ]
  },
  {
   "cell_type": "code",
   "execution_count": 11,
   "metadata": {},
   "outputs": [
    {
     "name": "stdout",
     "output_type": "stream",
     "text": [
      "my name is sarika\n",
      "i am data scienece trainer\n"
     ]
    }
   ],
   "source": [
    "# my name is sarika\n",
    "# i am data science trainer\n",
    "print(\"my name is sarika\\ni am data scienece trainer\")"
   ]
  },
  {
   "cell_type": "code",
   "execution_count": 12,
   "metadata": {},
   "outputs": [
    {
     "data": {
      "text/plain": [
       "'Data science combines math and statistics, \\nspecialized programming, advanced analytics, artificial intelligence (AI) and machine learning with specific subject matter expertise to uncover actionable insights hidden in an organization’s data. These insights can be used to guide decision making \\nand strategic planning.'"
      ]
     },
     "execution_count": 12,
     "metadata": {},
     "output_type": "execute_result"
    }
   ],
   "source": [
    "str1 = \"\"\"Data science combines math and statistics, \n",
    "specialized programming, advanced analytics, artificial intelligence (AI) and machine learning with specific subject matter expertise to uncover actionable insights hidden in an organization’s data. These insights can be used to guide decision making \n",
    "and strategic planning.\"\"\"\n",
    "str1"
   ]
  },
  {
   "cell_type": "code",
   "execution_count": 13,
   "metadata": {
    "executionInfo": {
     "elapsed": 455,
     "status": "ok",
     "timestamp": 1682492042395,
     "user": {
      "displayName": "Sarika Kokate",
      "userId": "14291067420357515060"
     },
     "user_tz": -330
    },
    "id": "Mx4bqYGRU-OD"
   },
   "outputs": [],
   "source": [
    "#1. remove spaces,newlines\n",
    "def remove_spaces(data):\n",
    "    clean_text = data.replace('\\\\n',' ').replace('\\t',' ').replace('\\\\',' ')\n",
    "    return clean_text\n",
    "\n",
    "#2.contraction mapping\n",
    "def expand_text(data):\n",
    "    expanded_text = contractions.fix(data)\n",
    "    return expanded_text\n",
    "\n",
    "#3. handling accented characters\n",
    "def handling_accented(data):\n",
    "    fixed_text = unidecode(data)\n",
    "    return fixed_text\n",
    "\n",
    "\n",
    "\n",
    "def clean_data(data):\n",
    "    tokens = word_tokenize(data)   # list of words \n",
    "    clean_text = [word.lower() for word in tokens if \n",
    "                  (word not in punctuation) and (word.lower() \n",
    "                  not in stopword_list) and (len(word)>=2) and\n",
    "                  (word.isalpha())]\n",
    "    return clean_text\n",
    "# punctions,stopwords,length,alphnumeric values\n",
    "\n",
    "# autocorrect\n",
    "def autocorrection(data):\n",
    "    spell = Speller(lang='en')\n",
    "    corrected_text = spell(data)\n",
    "    return corrected_text\n",
    "\n",
    "# lemmatization (Prunning)\n",
    "def lemmatization(data):\n",
    "    lemmatizer = WordNetLemmatizer()\n",
    "    final_data = []   # list \n",
    "    for word in data:\n",
    "        lemmatized_word = lemmatizer.lemmatize(word)\n",
    "        final_data.append(lemmatized_word)\n",
    "    return ' '.join(final_data)    # join for converting list into string \n"
   ]
  },
  {
   "cell_type": "code",
   "execution_count": 14,
   "metadata": {
    "executionInfo": {
     "elapsed": 524,
     "status": "ok",
     "timestamp": 1682492682240,
     "user": {
      "displayName": "Sarika Kokate",
      "userId": "14291067420357515060"
     },
     "user_tz": -330
    },
    "id": "VO9OuQnbV8BB"
   },
   "outputs": [],
   "source": [
    "\n",
    "import nltk\n"
   ]
  },
  {
   "cell_type": "code",
   "execution_count": 15,
   "metadata": {
    "colab": {
     "base_uri": "https://localhost:8080/"
    },
    "executionInfo": {
     "elapsed": 1681,
     "status": "ok",
     "timestamp": 1682492569187,
     "user": {
      "displayName": "Sarika Kokate",
      "userId": "14291067420357515060"
     },
     "user_tz": -330
    },
    "id": "UznsT4NAWZCQ",
    "outputId": "e0a50853-18ed-46e8-8532-753d114c3dec"
   },
   "outputs": [
    {
     "name": "stderr",
     "output_type": "stream",
     "text": [
      "[nltk_data] Downloading package stopwords to\n",
      "[nltk_data]     C:\\Users\\Admin\\AppData\\Roaming\\nltk_data...\n",
      "[nltk_data]   Package stopwords is already up-to-date!\n"
     ]
    },
    {
     "data": {
      "text/plain": [
       "True"
      ]
     },
     "execution_count": 15,
     "metadata": {},
     "output_type": "execute_result"
    }
   ],
   "source": [
    "from nltk.corpus import stopwords\n",
    "nltk.download('stopwords')"
   ]
  },
  {
   "cell_type": "code",
   "execution_count": 16,
   "metadata": {
    "executionInfo": {
     "elapsed": 479,
     "status": "ok",
     "timestamp": 1682492671074,
     "user": {
      "displayName": "Sarika Kokate",
      "userId": "14291067420357515060"
     },
     "user_tz": -330
    },
    "id": "kSC7Ih_dWNpt"
   },
   "outputs": [],
   "source": [
    "#4. Cleaning\n",
    "stopword_list = stopwords.words('english')\n",
    "stopword_list.remove('no')\n",
    "stopword_list.remove('nor')\n",
    "stopword_list.remove('not')\n"
   ]
  },
  {
   "cell_type": "code",
   "execution_count": 17,
   "metadata": {
    "colab": {
     "base_uri": "https://localhost:8080/",
     "height": 191
    },
    "executionInfo": {
     "elapsed": 859,
     "status": "ok",
     "timestamp": 1682492690096,
     "user": {
      "displayName": "Sarika Kokate",
      "userId": "14291067420357515060"
     },
     "user_tz": -330
    },
    "id": "8C2V6R5cVBzv",
    "outputId": "ec3a4d47-b1ad-4316-963e-08bc78d04ff4"
   },
   "outputs": [
    {
     "data": {
      "text/plain": [
       "\"When I put this movie in my DVD player, and sat down with a coke and some chips, I had some expectations. I was hoping that this movie would contain some of the strong-points of the first movie: Awsome animation, good flowing story, excellent voice cast, funny comedy and a kick-ass soundtrack. But, to my disappointment, not any of this is to be found in Atlantis: Milo's Return. Had I read some reviews first, I might not have been so let down. The following paragraph will be directed to those who have seen the first movie, and who enjoyed it primarily for the points mentioned.<br /><br />When the first scene appears, your in for a shock if you just picked Atlantis: Milo's Return from the display-case at your local videoshop (or whatever), and had the expectations I had. The music feels as a bad imitation of the first movie, and the voice cast has been replaced by a not so fitting one. (With the exception of a few characters, like the voice of Sweet). The actual drawings isnt that bad, but the animation in particular is a sad sight. The storyline is also pretty weak, as its more like three episodes of Schooby-Doo than the single adventurous story we got the last time. But dont misunderstand, it's not very good Schooby-Doo episodes. I didnt laugh a single time, although I might have sniggered once or twice.<br /><br />To the audience who haven't seen the first movie, or don't especially care for a similar sequel, here is a fast review of this movie as a stand-alone product: If you liked schooby-doo, you might like this movie. If you didn't, you could still enjoy this movie if you have nothing else to do. And I suspect it might be a good kids movie, but I wouldn't know. It might have been better if Milo's Return had been a three-episode series on a cartoon channel, or on breakfast TV.\""
      ]
     },
     "execution_count": 17,
     "metadata": {},
     "output_type": "execute_result"
    }
   ],
   "source": [
    "def remove_spaces(data):\n",
    "    clean_text = data.replace('\\\\n',' ').replace('\\t',' ').replace('\\\\',' ')\n",
    "    return clean_text\n",
    "remove_spaces(data['text'][1])"
   ]
  },
  {
   "cell_type": "markdown",
   "metadata": {
    "id": "zYLOckD3aktu"
   },
   "source": [
    "Feature Scalling :text = numerical formate = vector \n",
    "    this process is know as = word emeading \n",
    "    1)Frequency based:- a)count vectorizer     \n",
    "                        b)tfidf  \n",
    "    2)Prediction Based:-a)word2vec\n",
    "                        b)fast text\n",
    "                        c)doc2vec"
   ]
  },
  {
   "cell_type": "code",
   "execution_count": 18,
   "metadata": {
    "executionInfo": {
     "elapsed": 1787,
     "status": "ok",
     "timestamp": 1682494020074,
     "user": {
      "displayName": "Sarika Kokate",
      "userId": "14291067420357515060"
     },
     "user_tz": -330
    },
    "id": "RMyu9cPtap5k"
   },
   "outputs": [],
   "source": [
    "#  to aviod the data leakage \n",
    "x_train,x_test,y_train,y_test = train_test_split(data.text,data.label,test_size=0.25,random_state=42)"
   ]
  },
  {
   "cell_type": "code",
   "execution_count": 19,
   "metadata": {
    "colab": {
     "base_uri": "https://localhost:8080/"
    },
    "executionInfo": {
     "elapsed": 1662,
     "status": "ok",
     "timestamp": 1682494073363,
     "user": {
      "displayName": "Sarika Kokate",
      "userId": "14291067420357515060"
     },
     "user_tz": -330
    },
    "id": "D41uxjArdgkZ",
    "outputId": "9414cdb7-cdd4-4db0-afc6-c5e7b6912d11"
   },
   "outputs": [
    {
     "name": "stderr",
     "output_type": "stream",
     "text": [
      "[nltk_data] Downloading package punkt to\n",
      "[nltk_data]     C:\\Users\\Admin\\AppData\\Roaming\\nltk_data...\n",
      "[nltk_data]   Package punkt is already up-to-date!\n"
     ]
    },
    {
     "data": {
      "text/plain": [
       "True"
      ]
     },
     "execution_count": 19,
     "metadata": {},
     "output_type": "execute_result"
    }
   ],
   "source": [
    "import nltk\n",
    "nltk.download('punkt')"
   ]
  },
  {
   "cell_type": "code",
   "execution_count": 20,
   "metadata": {
    "colab": {
     "base_uri": "https://localhost:8080/"
    },
    "executionInfo": {
     "elapsed": 897,
     "status": "ok",
     "timestamp": 1682494254663,
     "user": {
      "displayName": "Sarika Kokate",
      "userId": "14291067420357515060"
     },
     "user_tz": -330
    },
    "id": "CaeKRr-deMU3",
    "outputId": "5f2bb234-d2d6-4b24-f68b-1ff2c62e00c6"
   },
   "outputs": [
    {
     "name": "stderr",
     "output_type": "stream",
     "text": [
      "[nltk_data] Downloading package wordnet to\n",
      "[nltk_data]     C:\\Users\\Admin\\AppData\\Roaming\\nltk_data...\n",
      "[nltk_data]   Package wordnet is already up-to-date!\n"
     ]
    },
    {
     "data": {
      "text/plain": [
       "True"
      ]
     },
     "execution_count": 20,
     "metadata": {},
     "output_type": "execute_result"
    }
   ],
   "source": [
    "import nltk\n",
    "nltk.download('wordnet')"
   ]
  },
  {
   "cell_type": "code",
   "execution_count": 21,
   "metadata": {
    "executionInfo": {
     "elapsed": 12291,
     "status": "ok",
     "timestamp": 1682494271061,
     "user": {
      "displayName": "Sarika Kokate",
      "userId": "14291067420357515060"
     },
     "user_tz": -330
    },
    "id": "YNOAQF--dQbT"
   },
   "outputs": [],
   "source": [
    "clean_text_train = x_train.apply(remove_spaces)   #\n",
    "clean_text_test = x_test.apply(remove_spaces)\n",
    "\n",
    "clean_text_train = clean_text_train.apply(expand_text)\n",
    "clean_text_test = clean_text_test.apply(expand_text)\n",
    "\n",
    "clean_text_train = clean_text_train.apply(handling_accented)\n",
    "clean_text_test = clean_text_test.apply(handling_accented)\n",
    "\n",
    "clean_text_train = clean_text_train.apply(clean_data)\n",
    "clean_text_test = clean_text_test.apply(clean_data)\n",
    "\n",
    "clean_text_train = clean_text_train.apply(lemmatization)\n",
    "clean_text_test = clean_text_test.apply(lemmatization)"
   ]
  },
  {
   "cell_type": "code",
   "execution_count": 22,
   "metadata": {
    "colab": {
     "base_uri": "https://localhost:8080/"
    },
    "executionInfo": {
     "elapsed": 805,
     "status": "ok",
     "timestamp": 1682494314061,
     "user": {
      "displayName": "Sarika Kokate",
      "userId": "14291067420357515060"
     },
     "user_tz": -330
    },
    "id": "5FX7YTeNdW3e",
    "outputId": "5a136ba5-8bd2-4105-8633-3ecc653cc049",
    "scrolled": false
   },
   "outputs": [
    {
     "data": {
      "text/plain": [
       "26898    fifth grade language art teacher read book stu...\n",
       "27635    low budget brit pop melodrama focus girl want ...\n",
       "3036     well ok watched movie little year ago pulled d...\n",
       "5604     would almost give however confusing part well ...\n",
       "36111    full length feature film world bridge found fi...\n",
       "                               ...                        \n",
       "6265     movie one worst movie ever seen life waste tim...\n",
       "11284    movie inspiring anyone tough jam whether finan...\n",
       "38158    east side story documentary musical comedy sta...\n",
       "860      one boot one point doctor assistant refers br ...\n",
       "15795    movie horrible lighting terrible camera moveme...\n",
       "Name: text, Length: 30000, dtype: object"
      ]
     },
     "execution_count": 22,
     "metadata": {},
     "output_type": "execute_result"
    }
   ],
   "source": [
    "clean_text_train"
   ]
  },
  {
   "cell_type": "code",
   "execution_count": 23,
   "metadata": {},
   "outputs": [
    {
     "data": {
      "text/plain": [
       "\"When I put this movie in my DVD player, and sat down with a coke and some chips, I had some expectations. I was hoping that this movie would contain some of the strong-points of the first movie: Awsome animation, good flowing story, excellent voice cast, funny comedy and a kick-ass soundtrack. But, to my disappointment, not any of this is to be found in Atlantis: Milo's Return. Had I read some reviews first, I might not have been so let down. The following paragraph will be directed to those who have seen the first movie, and who enjoyed it primarily for the points mentioned.<br /><br />When the first scene appears, your in for a shock if you just picked Atlantis: Milo's Return from the display-case at your local videoshop (or whatever), and had the expectations I had. The music feels as a bad imitation of the first movie, and the voice cast has been replaced by a not so fitting one. (With the exception of a few characters, like the voice of Sweet). The actual drawings isnt that bad, but the animation in particular is a sad sight. The storyline is also pretty weak, as its more like three episodes of Schooby-Doo than the single adventurous story we got the last time. But dont misunderstand, it's not very good Schooby-Doo episodes. I didnt laugh a single time, although I might have sniggered once or twice.<br /><br />To the audience who haven't seen the first movie, or don't especially care for a similar sequel, here is a fast review of this movie as a stand-alone product: If you liked schooby-doo, you might like this movie. If you didn't, you could still enjoy this movie if you have nothing else to do. And I suspect it might be a good kids movie, but I wouldn't know. It might have been better if Milo's Return had been a three-episode series on a cartoon channel, or on breakfast TV.\""
      ]
     },
     "execution_count": 23,
     "metadata": {},
     "output_type": "execute_result"
    }
   ],
   "source": [
    "data['text'][1]"
   ]
  },
  {
   "cell_type": "code",
   "execution_count": 24,
   "metadata": {},
   "outputs": [
    {
     "data": {
      "text/plain": [
       "'grew watching loving thunderbird mate school watched played thunderbird school lunch school wanted virgil scott no one wanted alan counting became art form took child see movie hoping would get glimpse loved child bitterly disappointing high point snappy theme tune not could compare original score thunderbird thankfully early saturday morning one television channel still play rerun series gerry anderson wife created jonatha frakes hand director chair version completely hopeless waste film utter rubbish cgi remake may acceptable replacing marionette homo sapiens subsp sapiens huge error judgment'"
      ]
     },
     "execution_count": 24,
     "metadata": {},
     "output_type": "execute_result"
    }
   ],
   "source": [
    "clean_text_train[0]"
   ]
  },
  {
   "cell_type": "code",
   "execution_count": 25,
   "metadata": {
    "executionInfo": {
     "elapsed": 514,
     "status": "ok",
     "timestamp": 1682494420649,
     "user": {
      "displayName": "Sarika Kokate",
      "userId": "14291067420357515060"
     },
     "user_tz": -330
    },
    "id": "Fdt114rLedAO"
   },
   "outputs": [],
   "source": [
    "# count vectorizer\n",
    "count = CountVectorizer(max_df=0.95,max_features=1000)\n",
    "count_val_train = count.fit_transform(clean_text_train)\n",
    "count_val_test = count.transform(clean_text_test)\n",
    "\n",
    "\n",
    "#count vecorizers out put is in the sparse matrix "
   ]
  },
  {
   "cell_type": "code",
   "execution_count": 26,
   "metadata": {
    "colab": {
     "base_uri": "https://localhost:8080/"
    },
    "executionInfo": {
     "elapsed": 662,
     "status": "ok",
     "timestamp": 1682495277526,
     "user": {
      "displayName": "Sarika Kokate",
      "userId": "14291067420357515060"
     },
     "user_tz": -330
    },
    "id": "PQM4OgIhehfz",
    "outputId": "de7cf913-3162-4688-aa7b-d5278e8cf628"
   },
   "outputs": [
    {
     "data": {
      "text/plain": [
       "<30000x1000 sparse matrix of type '<class 'numpy.int64'>'\n",
       "\twith 1651578 stored elements in Compressed Sparse Row format>"
      ]
     },
     "execution_count": 26,
     "metadata": {},
     "output_type": "execute_result"
    }
   ],
   "source": [
    "count_val_train      \n",
    "#print(count_val_train)"
   ]
  },
  {
   "cell_type": "code",
   "execution_count": 27,
   "metadata": {
    "colab": {
     "base_uri": "https://localhost:8080/"
    },
    "executionInfo": {
     "elapsed": 9,
     "status": "ok",
     "timestamp": 1682494424131,
     "user": {
      "displayName": "Sarika Kokate",
      "userId": "14291067420357515060"
     },
     "user_tz": -330
    },
    "id": "uhISfyKsemrR",
    "outputId": "f6d68331-f068-4cee-ce7f-dc09e10225ba"
   },
   "outputs": [
    {
     "data": {
      "text/plain": [
       "array([[0, 0, 0, ..., 0, 0, 0],\n",
       "       [0, 0, 0, ..., 0, 0, 0],\n",
       "       [0, 0, 0, ..., 0, 0, 0],\n",
       "       ...,\n",
       "       [0, 0, 0, ..., 0, 0, 0],\n",
       "       [0, 0, 0, ..., 0, 0, 0],\n",
       "       [0, 0, 0, ..., 0, 0, 0]], dtype=int64)"
      ]
     },
     "execution_count": 27,
     "metadata": {},
     "output_type": "execute_result"
    }
   ],
   "source": [
    "count_val_train.A"
   ]
  },
  {
   "cell_type": "code",
   "execution_count": 28,
   "metadata": {
    "colab": {
     "base_uri": "https://localhost:8080/"
    },
    "executionInfo": {
     "elapsed": 6,
     "status": "ok",
     "timestamp": 1682494424131,
     "user": {
      "displayName": "Sarika Kokate",
      "userId": "14291067420357515060"
     },
     "user_tz": -330
    },
    "id": "ZdAlpHlZenFD",
    "outputId": "fe58c0e5-7744-401a-8570-2cdab14e1146"
   },
   "outputs": [
    {
     "data": {
      "text/plain": [
       "array([[0, 0, 0, ..., 0, 0, 0],\n",
       "       [0, 0, 0, ..., 0, 0, 0],\n",
       "       [0, 0, 0, ..., 0, 0, 0],\n",
       "       ...,\n",
       "       [0, 0, 0, ..., 0, 0, 0],\n",
       "       [0, 0, 0, ..., 0, 0, 0],\n",
       "       [0, 0, 0, ..., 0, 0, 0]], dtype=int64)"
      ]
     },
     "execution_count": 28,
     "metadata": {},
     "output_type": "execute_result"
    }
   ],
   "source": [
    "count_val_train.toarray()"
   ]
  },
  {
   "cell_type": "code",
   "execution_count": 29,
   "metadata": {
    "executionInfo": {
     "elapsed": 1710,
     "status": "ok",
     "timestamp": 1682495784884,
     "user": {
      "displayName": "Sarika Kokate",
      "userId": "14291067420357515060"
     },
     "user_tz": -330
    },
    "id": "2L-hLm69kDE4"
   },
   "outputs": [],
   "source": [
    "from collections import Counter"
   ]
  },
  {
   "cell_type": "code",
   "execution_count": 30,
   "metadata": {
    "colab": {
     "base_uri": "https://localhost:8080/"
    },
    "executionInfo": {
     "elapsed": 1053,
     "status": "ok",
     "timestamp": 1682496094482,
     "user": {
      "displayName": "Sarika Kokate",
      "userId": "14291067420357515060"
     },
     "user_tz": -330
    },
    "id": "iQSYnAnEenZd",
    "outputId": "b62e6d0b-b5d2-4e22-a5ac-45ac8d7225c9"
   },
   "outputs": [
    {
     "data": {
      "text/plain": [
       "array(['ability', 'able', 'absolutely', 'accent', 'across', 'act',\n",
       "       'acted', 'acting', 'action', 'actor', 'actress', 'actual',\n",
       "       'actually', 'adaptation', 'add', 'admit', 'adult', 'adventure',\n",
       "       'age', 'ago', 'agree', 'air', 'alien', 'alive', 'almost', 'alone',\n",
       "       'along', 'already', 'also', 'although', 'always', 'amazing',\n",
       "       'america', 'american', 'among', 'amount', 'animal', 'animation',\n",
       "       'annoying', 'another', 'answer', 'anyone', 'anything', 'anyway',\n",
       "       'apart', 'apparently', 'appeal', 'appear', 'appearance', 'appears',\n",
       "       'appreciate', 'around', 'art', 'aside', 'ask', 'aspect',\n",
       "       'atmosphere', 'attack', 'attempt', 'attention', 'audience',\n",
       "       'average', 'avoid', 'award', 'away', 'awesome', 'awful', 'baby',\n",
       "       'back', 'background', 'bad', 'badly', 'band', 'barely', 'based',\n",
       "       'basic', 'basically', 'battle', 'beautiful', 'beauty', 'became',\n",
       "       'become', 'becomes', 'begin', 'beginning', 'behind', 'belief',\n",
       "       'believable', 'believe', 'best', 'better', 'beyond', 'big',\n",
       "       'biggest', 'bill', 'bit', 'bizarre', 'black', 'blood', 'blue',\n",
       "       'body', 'book', 'bored', 'boring', 'bother', 'box', 'boy', 'br',\n",
       "       'brain', 'break', 'brilliant', 'bring', 'brings', 'british',\n",
       "       'brother', 'brought', 'budget', 'bunch', 'business', 'buy', 'call',\n",
       "       'called', 'came', 'camera', 'camp', 'car', 'care', 'career',\n",
       "       'carry', 'cartoon', 'case', 'cast', 'casting', 'cat', 'catch',\n",
       "       'caught', 'century', 'certain', 'certainly', 'chance', 'change',\n",
       "       'changed', 'channel', 'character', 'chase', 'cheap', 'check',\n",
       "       'cheesy', 'child', 'choice', 'christmas', 'cinema',\n",
       "       'cinematography', 'city', 'class', 'classic', 'clear', 'clearly',\n",
       "       'clever', 'cliche', 'close', 'college', 'color', 'come', 'comedy',\n",
       "       'comic', 'coming', 'comment', 'common', 'company', 'compared',\n",
       "       'complete', 'completely', 'computer', 'concept', 'consider',\n",
       "       'considering', 'control', 'convincing', 'cool', 'cop', 'copy',\n",
       "       'costume', 'could', 'country', 'couple', 'course', 'cover', 'crap',\n",
       "       'crazy', 'create', 'created', 'creature', 'credit', 'creepy',\n",
       "       'crew', 'crime', 'critic', 'cry', 'culture', 'cut', 'cute',\n",
       "       'dance', 'dancing', 'dark', 'date', 'daughter', 'david', 'day',\n",
       "       'de', 'dead', 'deal', 'death', 'decent', 'decide', 'decided',\n",
       "       'decides', 'deep', 'definitely', 'depth', 'deserves', 'despite',\n",
       "       'detail', 'development', 'dialog', 'dialogue', 'die', 'died',\n",
       "       'different', 'difficult', 'directed', 'directing', 'direction',\n",
       "       'director', 'disappointed', 'disney', 'doctor', 'documentary',\n",
       "       'dog', 'done', 'door', 'doubt', 'drama', 'dramatic', 'dream',\n",
       "       'drive', 'drug', 'due', 'dull', 'dumb', 'dvd', 'earlier', 'early',\n",
       "       'earth', 'easily', 'easy', 'editing', 'effect', 'effort', 'either',\n",
       "       'element', 'else', 'emotion', 'emotional', 'end', 'ended',\n",
       "       'ending', 'english', 'enjoy', 'enjoyable', 'enjoyed', 'enough',\n",
       "       'entertaining', 'entertainment', 'entire', 'entirely', 'episode',\n",
       "       'era', 'escape', 'especially', 'etc', 'even', 'event',\n",
       "       'eventually', 'ever', 'every', 'everyone', 'everything', 'evil',\n",
       "       'exactly', 'example', 'excellent', 'except', 'exciting', 'expect',\n",
       "       'expected', 'expecting', 'experience', 'extra', 'extremely', 'eye',\n",
       "       'face', 'fact', 'fails', 'fairly', 'fall', 'familiar', 'family',\n",
       "       'famous', 'fan', 'fantastic', 'fantasy', 'far', 'fast', 'father',\n",
       "       'favorite', 'fear', 'feature', 'feel', 'feeling', 'felt', 'female',\n",
       "       'fight', 'fighting', 'figure', 'filled', 'film', 'filmed',\n",
       "       'filmmaker', 'final', 'finally', 'find', 'fine', 'fire', 'first',\n",
       "       'fit', 'five', 'flat', 'flaw', 'flick', 'focus', 'follow',\n",
       "       'following', 'follows', 'footage', 'force', 'forced', 'forget',\n",
       "       'form', 'former', 'forward', 'found', 'four', 'free', 'french',\n",
       "       'friend', 'front', 'full', 'fun', 'funny', 'future', 'game',\n",
       "       'gang', 'gave', 'gay', 'general', 'genius', 'genre', 'george',\n",
       "       'german', 'get', 'getting', 'ghost', 'girl', 'girlfriend', 'give',\n",
       "       'given', 'giving', 'go', 'god', 'going', 'gone', 'good', 'gore',\n",
       "       'got', 'great', 'greatest', 'group', 'guess', 'gun', 'guy', 'hair',\n",
       "       'half', 'hand', 'happen', 'happened', 'happens', 'happy', 'hard',\n",
       "       'hardly', 'hate', 'head', 'hear', 'heard', 'heart', 'hell', 'help',\n",
       "       'hero', 'high', 'highly', 'hilarious', 'history', 'hit', 'hold',\n",
       "       'hole', 'hollywood', 'home', 'honest', 'hope', 'horrible',\n",
       "       'horror', 'hot', 'hour', 'house', 'however', 'huge', 'human',\n",
       "       'humor', 'humour', 'husband', 'idea', 'image', 'imagine', 'imdb',\n",
       "       'important', 'impressive', 'including', 'incredible', 'incredibly',\n",
       "       'indeed', 'indian', 'inside', 'instead', 'intelligent', 'interest',\n",
       "       'interested', 'interesting', 'involved', 'involving', 'island',\n",
       "       'issue', 'italian', 'jack', 'james', 'jane', 'japanese', 'job',\n",
       "       'joe', 'john', 'joke', 'keep', 'kept', 'kid', 'kill', 'killed',\n",
       "       'killer', 'killing', 'kind', 'king', 'knew', 'know', 'known', 'la',\n",
       "       'lack', 'lady', 'lame', 'land', 'language', 'large', 'last',\n",
       "       'late', 'later', 'laugh', 'laughing', 'law', 'le', 'lead',\n",
       "       'leading', 'leaf', 'learn', 'least', 'leave', 'lee', 'left', 'let',\n",
       "       'level', 'lie', 'life', 'light', 'like', 'liked', 'line', 'list',\n",
       "       'little', 'live', 'living', 'local', 'location', 'long', 'longer',\n",
       "       'look', 'looked', 'looking', 'lost', 'lot', 'love', 'loved',\n",
       "       'lover', 'low', 'mad', 'made', 'main', 'major', 'make', 'maker',\n",
       "       'making', 'male', 'man', 'manages', 'many', 'mark', 'married',\n",
       "       'master', 'masterpiece', 'match', 'material', 'matter', 'may',\n",
       "       'maybe', 'mean', 'meaning', 'meant', 'meet', 'member', 'memorable',\n",
       "       'memory', 'men', 'mention', 'mentioned', 'mess', 'message',\n",
       "       'michael', 'middle', 'might', 'million', 'mind', 'minute', 'miss',\n",
       "       'missed', 'missing', 'mistake', 'modern', 'moment', 'money',\n",
       "       'monster', 'mostly', 'mother', 'move', 'movie', 'moving', 'much',\n",
       "       'murder', 'music', 'musical', 'must', 'mystery', 'name', 'named',\n",
       "       'nature', 'near', 'nearly', 'need', 'needed', 'neither', 'never',\n",
       "       'new', 'next', 'nice', 'night', 'no', 'none', 'nor', 'not', 'note',\n",
       "       'nothing', 'novel', 'nudity', 'number', 'obvious', 'obviously',\n",
       "       'odd', 'offer', 'office', 'often', 'oh', 'ok', 'okay', 'old',\n",
       "       'older', 'one', 'open', 'opening', 'opinion', 'opportunity',\n",
       "       'order', 'original', 'oscar', 'others', 'otherwise', 'outside',\n",
       "       'overall', 'pace', 'parent', 'park', 'part', 'particular',\n",
       "       'particularly', 'party', 'past', 'pathetic', 'paul', 'pay',\n",
       "       'people', 'perfect', 'perfectly', 'performance', 'perhaps',\n",
       "       'period', 'person', 'personal', 'peter', 'pick', 'picture',\n",
       "       'piece', 'place', 'plain', 'plan', 'play', 'played', 'player',\n",
       "       'playing', 'please', 'plenty', 'plot', 'plus', 'point',\n",
       "       'pointless', 'police', 'political', 'poor', 'poorly', 'popular',\n",
       "       'portrayal', 'portrayed', 'possible', 'possibly', 'potential',\n",
       "       'power', 'powerful', 'predictable', 'premise', 'present', 'pretty',\n",
       "       'previous', 'prison', 'probably', 'problem', 'produced',\n",
       "       'producer', 'production', 'project', 'public', 'pull', 'pure',\n",
       "       'purpose', 'put', 'quality', 'question', 'quickly', 'quite',\n",
       "       'rate', 'rather', 'rating', 'read', 'reading', 'real', 'realistic',\n",
       "       'reality', 'realize', 'really', 'reason', 'recent', 'recently',\n",
       "       'recommend', 'recommended', 'red', 'relationship', 'release',\n",
       "       'released', 'remake', 'remember', 'rent', 'respect', 'rest',\n",
       "       'result', 'return', 'review', 'reviewer', 'rich', 'richard',\n",
       "       'ride', 'ridiculous', 'right', 'ring', 'road', 'robert', 'rock',\n",
       "       'role', 'romance', 'romantic', 'room', 'run', 'running', 'sad',\n",
       "       'sadly', 'said', 'save', 'saw', 'say', 'saying', 'scary', 'scene',\n",
       "       'school', 'science', 'score', 'scott', 'screen', 'screenplay',\n",
       "       'script', 'season', 'second', 'secret', 'see', 'seeing', 'seem',\n",
       "       'seemed', 'seems', 'seen', 'sense', 'sequel', 'sequence', 'series',\n",
       "       'serious', 'seriously', 'set', 'setting', 'several', 'sex',\n",
       "       'sexual', 'shame', 'ship', 'shoot', 'shooting', 'short', 'shot',\n",
       "       'show', 'showing', 'shown', 'sick', 'side', 'silly', 'similar',\n",
       "       'simple', 'simply', 'since', 'singing', 'single', 'sister', 'sit',\n",
       "       'situation', 'slightly', 'slow', 'small', 'society', 'soldier',\n",
       "       'somehow', 'someone', 'something', 'sometimes', 'somewhat', 'son',\n",
       "       'song', 'soon', 'sorry', 'sort', 'soul', 'sound', 'soundtrack',\n",
       "       'space', 'speak', 'special', 'spend', 'spent', 'spirit', 'spoiler',\n",
       "       'spot', 'stage', 'stand', 'standard', 'star', 'start', 'started',\n",
       "       'state', 'stay', 'stick', 'still', 'stop', 'store', 'story',\n",
       "       'storyline', 'straight', 'strange', 'street', 'strong', 'student',\n",
       "       'studio', 'stuff', 'stupid', 'style', 'subject', 'success',\n",
       "       'successful', 'suck', 'suddenly', 'superb', 'supporting',\n",
       "       'supposed', 'sure', 'surprise', 'surprised', 'suspense', 'sweet',\n",
       "       'take', 'taken', 'taking', 'tale', 'talent', 'talented', 'talk',\n",
       "       'talking', 'taste', 'team', 'teen', 'teenager', 'television',\n",
       "       'tell', 'telling', 'ten', 'tension', 'term', 'terrible', 'thanks',\n",
       "       'theater', 'theme', 'thing', 'think', 'thinking', 'third',\n",
       "       'though', 'thought', 'three', 'thriller', 'throughout', 'throw',\n",
       "       'time', 'title', 'today', 'together', 'told', 'tom', 'tone',\n",
       "       'took', 'top', 'total', 'totally', 'touch', 'towards', 'town',\n",
       "       'track', 'trailer', 'train', 'tried', 'trouble', 'true', 'truly',\n",
       "       'truth', 'try', 'trying', 'turn', 'turned', 'tv', 'twist', 'two',\n",
       "       'type', 'typical', 'ultimately', 'understand', 'unfortunately',\n",
       "       'unique', 'unless', 'unlike', 'upon', 'us', 'use', 'used', 'using',\n",
       "       'usual', 'usually', 'value', 'vampire', 'van', 'various',\n",
       "       'version', 'victim', 'video', 'view', 'viewer', 'viewing',\n",
       "       'villain', 'violence', 'violent', 'visual', 'voice', 'wait',\n",
       "       'waiting', 'walk', 'want', 'wanted', 'war', 'waste', 'wasted',\n",
       "       'watch', 'watched', 'watching', 'water', 'way', 'weak', 'week',\n",
       "       'weird', 'well', 'went', 'western', 'whatever', 'whether', 'white',\n",
       "       'whole', 'whose', 'wife', 'william', 'win', 'wish', 'within',\n",
       "       'without', 'woman', 'wonder', 'wonderful', 'wood', 'word', 'work',\n",
       "       'worked', 'working', 'world', 'worse', 'worst', 'worth', 'would',\n",
       "       'write', 'writer', 'writing', 'written', 'wrong', 'wrote', 'yeah',\n",
       "       'year', 'yes', 'yet', 'york', 'young', 'younger', 'zombie'],\n",
       "      dtype=object)"
      ]
     },
     "execution_count": 30,
     "metadata": {},
     "output_type": "execute_result"
    }
   ],
   "source": [
    "#count.get_feature_names()\n",
    "count.get_feature_names_out()"
   ]
  },
  {
   "cell_type": "code",
   "execution_count": 31,
   "metadata": {
    "colab": {
     "base_uri": "https://localhost:8080/"
    },
    "executionInfo": {
     "elapsed": 825,
     "status": "ok",
     "timestamp": 1682496110948,
     "user": {
      "displayName": "Sarika Kokate",
      "userId": "14291067420357515060"
     },
     "user_tz": -330
    },
    "id": "LqvVziNpenrn",
    "outputId": "a502cc4a-8958-4cb0-e276-54c187f93b54"
   },
   "outputs": [
    {
     "data": {
      "text/plain": [
       "1000"
      ]
     },
     "execution_count": 31,
     "metadata": {},
     "output_type": "execute_result"
    }
   ],
   "source": [
    "len(count.get_feature_names_out())"
   ]
  },
  {
   "cell_type": "code",
   "execution_count": 32,
   "metadata": {
    "colab": {
     "base_uri": "https://localhost:8080/",
     "height": 487
    },
    "executionInfo": {
     "elapsed": 630,
     "status": "ok",
     "timestamp": 1682496119370,
     "user": {
      "displayName": "Sarika Kokate",
      "userId": "14291067420357515060"
     },
     "user_tz": -330
    },
    "id": "8aQBjleuetwx",
    "outputId": "c18ccf22-30bd-4ed5-aa21-2619b98b454b"
   },
   "outputs": [
    {
     "data": {
      "text/html": [
       "<div>\n",
       "<style scoped>\n",
       "    .dataframe tbody tr th:only-of-type {\n",
       "        vertical-align: middle;\n",
       "    }\n",
       "\n",
       "    .dataframe tbody tr th {\n",
       "        vertical-align: top;\n",
       "    }\n",
       "\n",
       "    .dataframe thead th {\n",
       "        text-align: right;\n",
       "    }\n",
       "</style>\n",
       "<table border=\"1\" class=\"dataframe\">\n",
       "  <thead>\n",
       "    <tr style=\"text-align: right;\">\n",
       "      <th></th>\n",
       "      <th>ability</th>\n",
       "      <th>able</th>\n",
       "      <th>absolutely</th>\n",
       "      <th>accent</th>\n",
       "      <th>across</th>\n",
       "      <th>act</th>\n",
       "      <th>acted</th>\n",
       "      <th>acting</th>\n",
       "      <th>action</th>\n",
       "      <th>actor</th>\n",
       "      <th>...</th>\n",
       "      <th>wrong</th>\n",
       "      <th>wrote</th>\n",
       "      <th>yeah</th>\n",
       "      <th>year</th>\n",
       "      <th>yes</th>\n",
       "      <th>yet</th>\n",
       "      <th>york</th>\n",
       "      <th>young</th>\n",
       "      <th>younger</th>\n",
       "      <th>zombie</th>\n",
       "    </tr>\n",
       "  </thead>\n",
       "  <tbody>\n",
       "    <tr>\n",
       "      <th>0</th>\n",
       "      <td>0</td>\n",
       "      <td>0</td>\n",
       "      <td>0</td>\n",
       "      <td>0</td>\n",
       "      <td>0</td>\n",
       "      <td>0</td>\n",
       "      <td>0</td>\n",
       "      <td>2</td>\n",
       "      <td>0</td>\n",
       "      <td>0</td>\n",
       "      <td>...</td>\n",
       "      <td>0</td>\n",
       "      <td>0</td>\n",
       "      <td>0</td>\n",
       "      <td>0</td>\n",
       "      <td>0</td>\n",
       "      <td>0</td>\n",
       "      <td>0</td>\n",
       "      <td>0</td>\n",
       "      <td>0</td>\n",
       "      <td>0</td>\n",
       "    </tr>\n",
       "    <tr>\n",
       "      <th>1</th>\n",
       "      <td>0</td>\n",
       "      <td>0</td>\n",
       "      <td>0</td>\n",
       "      <td>0</td>\n",
       "      <td>0</td>\n",
       "      <td>0</td>\n",
       "      <td>0</td>\n",
       "      <td>0</td>\n",
       "      <td>0</td>\n",
       "      <td>0</td>\n",
       "      <td>...</td>\n",
       "      <td>0</td>\n",
       "      <td>0</td>\n",
       "      <td>0</td>\n",
       "      <td>0</td>\n",
       "      <td>0</td>\n",
       "      <td>0</td>\n",
       "      <td>0</td>\n",
       "      <td>0</td>\n",
       "      <td>0</td>\n",
       "      <td>0</td>\n",
       "    </tr>\n",
       "    <tr>\n",
       "      <th>2</th>\n",
       "      <td>0</td>\n",
       "      <td>0</td>\n",
       "      <td>0</td>\n",
       "      <td>0</td>\n",
       "      <td>0</td>\n",
       "      <td>0</td>\n",
       "      <td>0</td>\n",
       "      <td>0</td>\n",
       "      <td>0</td>\n",
       "      <td>0</td>\n",
       "      <td>...</td>\n",
       "      <td>0</td>\n",
       "      <td>0</td>\n",
       "      <td>0</td>\n",
       "      <td>1</td>\n",
       "      <td>0</td>\n",
       "      <td>0</td>\n",
       "      <td>0</td>\n",
       "      <td>0</td>\n",
       "      <td>0</td>\n",
       "      <td>0</td>\n",
       "    </tr>\n",
       "    <tr>\n",
       "      <th>3</th>\n",
       "      <td>0</td>\n",
       "      <td>0</td>\n",
       "      <td>0</td>\n",
       "      <td>1</td>\n",
       "      <td>0</td>\n",
       "      <td>0</td>\n",
       "      <td>0</td>\n",
       "      <td>0</td>\n",
       "      <td>0</td>\n",
       "      <td>0</td>\n",
       "      <td>...</td>\n",
       "      <td>0</td>\n",
       "      <td>0</td>\n",
       "      <td>0</td>\n",
       "      <td>0</td>\n",
       "      <td>0</td>\n",
       "      <td>0</td>\n",
       "      <td>0</td>\n",
       "      <td>0</td>\n",
       "      <td>0</td>\n",
       "      <td>0</td>\n",
       "    </tr>\n",
       "    <tr>\n",
       "      <th>4</th>\n",
       "      <td>0</td>\n",
       "      <td>0</td>\n",
       "      <td>2</td>\n",
       "      <td>0</td>\n",
       "      <td>0</td>\n",
       "      <td>0</td>\n",
       "      <td>0</td>\n",
       "      <td>0</td>\n",
       "      <td>0</td>\n",
       "      <td>0</td>\n",
       "      <td>...</td>\n",
       "      <td>0</td>\n",
       "      <td>0</td>\n",
       "      <td>0</td>\n",
       "      <td>0</td>\n",
       "      <td>0</td>\n",
       "      <td>0</td>\n",
       "      <td>0</td>\n",
       "      <td>0</td>\n",
       "      <td>0</td>\n",
       "      <td>0</td>\n",
       "    </tr>\n",
       "    <tr>\n",
       "      <th>...</th>\n",
       "      <td>...</td>\n",
       "      <td>...</td>\n",
       "      <td>...</td>\n",
       "      <td>...</td>\n",
       "      <td>...</td>\n",
       "      <td>...</td>\n",
       "      <td>...</td>\n",
       "      <td>...</td>\n",
       "      <td>...</td>\n",
       "      <td>...</td>\n",
       "      <td>...</td>\n",
       "      <td>...</td>\n",
       "      <td>...</td>\n",
       "      <td>...</td>\n",
       "      <td>...</td>\n",
       "      <td>...</td>\n",
       "      <td>...</td>\n",
       "      <td>...</td>\n",
       "      <td>...</td>\n",
       "      <td>...</td>\n",
       "      <td>...</td>\n",
       "    </tr>\n",
       "    <tr>\n",
       "      <th>29995</th>\n",
       "      <td>0</td>\n",
       "      <td>0</td>\n",
       "      <td>0</td>\n",
       "      <td>0</td>\n",
       "      <td>0</td>\n",
       "      <td>1</td>\n",
       "      <td>0</td>\n",
       "      <td>1</td>\n",
       "      <td>0</td>\n",
       "      <td>0</td>\n",
       "      <td>...</td>\n",
       "      <td>0</td>\n",
       "      <td>0</td>\n",
       "      <td>0</td>\n",
       "      <td>0</td>\n",
       "      <td>0</td>\n",
       "      <td>0</td>\n",
       "      <td>0</td>\n",
       "      <td>0</td>\n",
       "      <td>0</td>\n",
       "      <td>0</td>\n",
       "    </tr>\n",
       "    <tr>\n",
       "      <th>29996</th>\n",
       "      <td>0</td>\n",
       "      <td>0</td>\n",
       "      <td>0</td>\n",
       "      <td>0</td>\n",
       "      <td>0</td>\n",
       "      <td>0</td>\n",
       "      <td>0</td>\n",
       "      <td>0</td>\n",
       "      <td>0</td>\n",
       "      <td>0</td>\n",
       "      <td>...</td>\n",
       "      <td>0</td>\n",
       "      <td>0</td>\n",
       "      <td>0</td>\n",
       "      <td>0</td>\n",
       "      <td>0</td>\n",
       "      <td>0</td>\n",
       "      <td>0</td>\n",
       "      <td>0</td>\n",
       "      <td>0</td>\n",
       "      <td>0</td>\n",
       "    </tr>\n",
       "    <tr>\n",
       "      <th>29997</th>\n",
       "      <td>0</td>\n",
       "      <td>0</td>\n",
       "      <td>0</td>\n",
       "      <td>0</td>\n",
       "      <td>0</td>\n",
       "      <td>0</td>\n",
       "      <td>0</td>\n",
       "      <td>0</td>\n",
       "      <td>0</td>\n",
       "      <td>0</td>\n",
       "      <td>...</td>\n",
       "      <td>0</td>\n",
       "      <td>0</td>\n",
       "      <td>0</td>\n",
       "      <td>1</td>\n",
       "      <td>0</td>\n",
       "      <td>0</td>\n",
       "      <td>0</td>\n",
       "      <td>0</td>\n",
       "      <td>0</td>\n",
       "      <td>0</td>\n",
       "    </tr>\n",
       "    <tr>\n",
       "      <th>29998</th>\n",
       "      <td>0</td>\n",
       "      <td>0</td>\n",
       "      <td>0</td>\n",
       "      <td>0</td>\n",
       "      <td>0</td>\n",
       "      <td>0</td>\n",
       "      <td>0</td>\n",
       "      <td>1</td>\n",
       "      <td>0</td>\n",
       "      <td>0</td>\n",
       "      <td>...</td>\n",
       "      <td>1</td>\n",
       "      <td>0</td>\n",
       "      <td>0</td>\n",
       "      <td>0</td>\n",
       "      <td>0</td>\n",
       "      <td>0</td>\n",
       "      <td>0</td>\n",
       "      <td>0</td>\n",
       "      <td>0</td>\n",
       "      <td>0</td>\n",
       "    </tr>\n",
       "    <tr>\n",
       "      <th>29999</th>\n",
       "      <td>0</td>\n",
       "      <td>0</td>\n",
       "      <td>0</td>\n",
       "      <td>0</td>\n",
       "      <td>0</td>\n",
       "      <td>0</td>\n",
       "      <td>0</td>\n",
       "      <td>1</td>\n",
       "      <td>0</td>\n",
       "      <td>0</td>\n",
       "      <td>...</td>\n",
       "      <td>0</td>\n",
       "      <td>1</td>\n",
       "      <td>0</td>\n",
       "      <td>1</td>\n",
       "      <td>0</td>\n",
       "      <td>0</td>\n",
       "      <td>0</td>\n",
       "      <td>0</td>\n",
       "      <td>0</td>\n",
       "      <td>0</td>\n",
       "    </tr>\n",
       "  </tbody>\n",
       "</table>\n",
       "<p>30000 rows × 1000 columns</p>\n",
       "</div>"
      ],
      "text/plain": [
       "       ability  able  absolutely  accent  across  act  acted  acting  action  \\\n",
       "0            0     0           0       0       0    0      0       2       0   \n",
       "1            0     0           0       0       0    0      0       0       0   \n",
       "2            0     0           0       0       0    0      0       0       0   \n",
       "3            0     0           0       1       0    0      0       0       0   \n",
       "4            0     0           2       0       0    0      0       0       0   \n",
       "...        ...   ...         ...     ...     ...  ...    ...     ...     ...   \n",
       "29995        0     0           0       0       0    1      0       1       0   \n",
       "29996        0     0           0       0       0    0      0       0       0   \n",
       "29997        0     0           0       0       0    0      0       0       0   \n",
       "29998        0     0           0       0       0    0      0       1       0   \n",
       "29999        0     0           0       0       0    0      0       1       0   \n",
       "\n",
       "       actor  ...  wrong  wrote  yeah  year  yes  yet  york  young  younger  \\\n",
       "0          0  ...      0      0     0     0    0    0     0      0        0   \n",
       "1          0  ...      0      0     0     0    0    0     0      0        0   \n",
       "2          0  ...      0      0     0     1    0    0     0      0        0   \n",
       "3          0  ...      0      0     0     0    0    0     0      0        0   \n",
       "4          0  ...      0      0     0     0    0    0     0      0        0   \n",
       "...      ...  ...    ...    ...   ...   ...  ...  ...   ...    ...      ...   \n",
       "29995      0  ...      0      0     0     0    0    0     0      0        0   \n",
       "29996      0  ...      0      0     0     0    0    0     0      0        0   \n",
       "29997      0  ...      0      0     0     1    0    0     0      0        0   \n",
       "29998      0  ...      1      0     0     0    0    0     0      0        0   \n",
       "29999      0  ...      0      1     0     1    0    0     0      0        0   \n",
       "\n",
       "       zombie  \n",
       "0           0  \n",
       "1           0  \n",
       "2           0  \n",
       "3           0  \n",
       "4           0  \n",
       "...       ...  \n",
       "29995       0  \n",
       "29996       0  \n",
       "29997       0  \n",
       "29998       0  \n",
       "29999       0  \n",
       "\n",
       "[30000 rows x 1000 columns]"
      ]
     },
     "execution_count": 32,
     "metadata": {},
     "output_type": "execute_result"
    }
   ],
   "source": [
    "pd.DataFrame(count_val_train.A,columns=count.get_feature_names_out())"
   ]
  },
  {
   "cell_type": "code",
   "execution_count": 33,
   "metadata": {
    "colab": {
     "base_uri": "https://localhost:8080/"
    },
    "executionInfo": {
     "elapsed": 457,
     "status": "ok",
     "timestamp": 1682496129580,
     "user": {
      "displayName": "Sarika Kokate",
      "userId": "14291067420357515060"
     },
     "user_tz": -330
    },
    "id": "Xe3hPyNGev_N",
    "outputId": "a680f69c-7afd-47f7-89ba-4b30402ddf24"
   },
   "outputs": [
    {
     "data": {
      "text/plain": [
       "83.17999999999999"
      ]
     },
     "execution_count": 33,
     "metadata": {},
     "output_type": "execute_result"
    }
   ],
   "source": [
    "# build model\n",
    "count_mnb = MultinomialNB()\n",
    "count_mnb.fit(count_val_train.A,y_train)\n",
    "predict_count = count_mnb.predict(count_val_test.A)\n",
    "accuracy_count = accuracy_score(y_test,predict_count)*100\n",
    "accuracy_count"
   ]
  },
  {
   "cell_type": "code",
   "execution_count": null,
   "metadata": {
    "executionInfo": {
     "elapsed": 19,
     "status": "ok",
     "timestamp": 1682496139272,
     "user": {
      "displayName": "Sarika Kokate",
      "userId": "14291067420357515060"
     },
     "user_tz": -330
    },
    "id": "9tvhl8P2e1HY"
   },
   "outputs": [],
   "source": [
    "tfidf = TfidfVectorizer(max_df=0.95,max_features=1000)\n",
    "tfidf_train = tfidf.fit_transform(clean_text_train)\n",
    "tfidf_test = tfidf.transform(clean_text_test)"
   ]
  },
  {
   "cell_type": "code",
   "execution_count": null,
   "metadata": {
    "colab": {
     "base_uri": "https://localhost:8080/"
    },
    "executionInfo": {
     "elapsed": 1503,
     "status": "ok",
     "timestamp": 1682496151955,
     "user": {
      "displayName": "Sarika Kokate",
      "userId": "14291067420357515060"
     },
     "user_tz": -330
    },
    "id": "ZgpsNSw5e1bG",
    "outputId": "d4f276a4-0d38-4c9a-df8c-c7cc5813b5df"
   },
   "outputs": [],
   "source": [
    "tfidf_train"
   ]
  },
  {
   "cell_type": "code",
   "execution_count": null,
   "metadata": {
    "colab": {
     "base_uri": "https://localhost:8080/"
    },
    "executionInfo": {
     "elapsed": 13,
     "status": "ok",
     "timestamp": 1682496151956,
     "user": {
      "displayName": "Sarika Kokate",
      "userId": "14291067420357515060"
     },
     "user_tz": -330
    },
    "id": "sal5T3offuBF",
    "outputId": "9c25bb48-495a-4274-e7bf-1edde34355bc"
   },
   "outputs": [],
   "source": [
    "tfidf_train.A"
   ]
  },
  {
   "cell_type": "code",
   "execution_count": null,
   "metadata": {
    "colab": {
     "base_uri": "https://localhost:8080/"
    },
    "executionInfo": {
     "elapsed": 9,
     "status": "ok",
     "timestamp": 1682496151956,
     "user": {
      "displayName": "Sarika Kokate",
      "userId": "14291067420357515060"
     },
     "user_tz": -330
    },
    "id": "k_uV4L1Qfujj",
    "outputId": "977cc5f4-c05f-4d78-f74a-9c7d8e0de07e"
   },
   "outputs": [],
   "source": [
    "tfidf_train.toarray()"
   ]
  },
  {
   "cell_type": "code",
   "execution_count": null,
   "metadata": {
    "colab": {
     "base_uri": "https://localhost:8080/"
    },
    "executionInfo": {
     "elapsed": 1367,
     "status": "ok",
     "timestamp": 1682496205987,
     "user": {
      "displayName": "Sarika Kokate",
      "userId": "14291067420357515060"
     },
     "user_tz": -330
    },
    "id": "GPFvI-qWfuzA",
    "outputId": "f72bb235-7adf-4e53-c059-2bf7c77ad0fb"
   },
   "outputs": [],
   "source": [
    "tfidf.get_feature_names_out()"
   ]
  },
  {
   "cell_type": "code",
   "execution_count": null,
   "metadata": {
    "colab": {
     "base_uri": "https://localhost:8080/"
    },
    "executionInfo": {
     "elapsed": 4,
     "status": "ok",
     "timestamp": 1682496213351,
     "user": {
      "displayName": "Sarika Kokate",
      "userId": "14291067420357515060"
     },
     "user_tz": -330
    },
    "id": "23bpQAF2fvBB",
    "outputId": "a815d10a-ab2b-45c2-f345-b3fb08a5710a"
   },
   "outputs": [],
   "source": [
    "len(tfidf.get_feature_names_out())"
   ]
  },
  {
   "cell_type": "code",
   "execution_count": null,
   "metadata": {
    "colab": {
     "base_uri": "https://localhost:8080/",
     "height": 487
    },
    "executionInfo": {
     "elapsed": 11821,
     "status": "ok",
     "timestamp": 1682496233497,
     "user": {
      "displayName": "Sarika Kokate",
      "userId": "14291067420357515060"
     },
     "user_tz": -330
    },
    "id": "HY-Znlr3f2eC",
    "outputId": "87e9de22-fed4-4dfc-bf0c-c514a811db5e"
   },
   "outputs": [],
   "source": [
    "pd.DataFrame(tfidf_train.A,columns=tfidf.get_feature_names_out())"
   ]
  },
  {
   "cell_type": "code",
   "execution_count": null,
   "metadata": {
    "colab": {
     "base_uri": "https://localhost:8080/"
    },
    "executionInfo": {
     "elapsed": 3918,
     "status": "ok",
     "timestamp": 1682496244586,
     "user": {
      "displayName": "Sarika Kokate",
      "userId": "14291067420357515060"
     },
     "user_tz": -330
    },
    "id": "c7_OG4yYf2zq",
    "outputId": "0dd53c44-bfa0-4ac1-a4c2-eda96148b541"
   },
   "outputs": [],
   "source": [
    "tfidf_mnb = MultinomialNB()\n",
    "tfidf_mnb.fit(tfidf_train.A,y_train)\n",
    "predict_tfidf=tfidf_mnb.predict(tfidf_test.A)\n",
    "accuracy_tfidf = accuracy_score(y_test,predict_tfidf)*100\n",
    "accuracy_tfidf"
   ]
  },
  {
   "cell_type": "code",
   "execution_count": null,
   "metadata": {
    "colab": {
     "base_uri": "https://localhost:8080/"
    },
    "executionInfo": {
     "elapsed": 1472,
     "status": "ok",
     "timestamp": 1682496261078,
     "user": {
      "displayName": "Sarika Kokate",
      "userId": "14291067420357515060"
     },
     "user_tz": -330
    },
    "id": "fIXQV0v2f9li",
    "outputId": "d656d644-6cda-475e-c19f-1cac0433cef3"
   },
   "outputs": [],
   "source": [
    "accuracy_count"
   ]
  },
  {
   "cell_type": "code",
   "execution_count": null,
   "metadata": {
    "executionInfo": {
     "elapsed": 2369,
     "status": "ok",
     "timestamp": 1682496293898,
     "user": {
      "displayName": "Sarika Kokate",
      "userId": "14291067420357515060"
     },
     "user_tz": -330
    },
    "id": "jhQ8DFDvf96i"
   },
   "outputs": [],
   "source": [
    "from nltk.util import ngrams\n",
    "# [w1 w2 w3]\n",
    "def splitting_dataframe(data):\n",
    "    tokens = data.split()\n",
    "    return tokens\n",
    "\n",
    "data = clean_text_test.apply(splitting_dataframe)\n",
    "\n",
    "def ngram_list(data,ngram_range):\n",
    "    ngram = ngrams(data,ngram_range) # zip file\n",
    "    ngram_list1 = []\n",
    "    for ngram1 in ngram: #opening the zip file\n",
    "        ngram_list1.append(' '.join(ngram1))\n",
    "    return ngram_list1"
   ]
  },
  {
   "cell_type": "code",
   "execution_count": null,
   "metadata": {
    "colab": {
     "base_uri": "https://localhost:8080/"
    },
    "executionInfo": {
     "elapsed": 2469,
     "status": "ok",
     "timestamp": 1682496299097,
     "user": {
      "displayName": "Sarika Kokate",
      "userId": "14291067420357515060"
     },
     "user_tz": -330
    },
    "id": "z9um18W5f-OP",
    "outputId": "93329951-ed48-4be8-d8ee-08cceaee31b6"
   },
   "outputs": [],
   "source": [
    "unigrams = data.apply(lambda x : ngram_list(x,1)) # x >> single review\n",
    "unigrams"
   ]
  },
  {
   "cell_type": "code",
   "execution_count": null,
   "metadata": {
    "executionInfo": {
     "elapsed": 3,
     "status": "ok",
     "timestamp": 1682496345158,
     "user": {
      "displayName": "Sarika Kokate",
      "userId": "14291067420357515060"
     },
     "user_tz": -330
    },
    "id": "1GDxxs5OgHcK"
   },
   "outputs": [],
   "source": [
    "#bigrams = data.apply(lambda x : ngram_list1(x,2)) # x >> single review\n",
    "#bigrams"
   ]
  },
  {
   "cell_type": "code",
   "execution_count": null,
   "metadata": {
    "executionInfo": {
     "elapsed": 1043,
     "status": "ok",
     "timestamp": 1682496338148,
     "user": {
      "displayName": "Sarika Kokate",
      "userId": "14291067420357515060"
     },
     "user_tz": -330
    },
    "id": "PTALCrjRgHuj"
   },
   "outputs": [],
   "source": [
    "#trigrams = data.apply(lambda x : ngram_list1(x,3)) # x >> single review\n",
    "#trigrams"
   ]
  },
  {
   "cell_type": "code",
   "execution_count": null,
   "metadata": {
    "id": "Gw8hUR8TgIAA"
   },
   "outputs": [],
   "source": []
  }
 ],
 "metadata": {
  "colab": {
   "authorship_tag": "ABX9TyMexnWbCkfDnjWQHWCwsrjL",
   "provenance": []
  },
  "kernelspec": {
   "display_name": "Python 3 (ipykernel)",
   "language": "python",
   "name": "python3"
  },
  "language_info": {
   "codemirror_mode": {
    "name": "ipython",
    "version": 3
   },
   "file_extension": ".py",
   "mimetype": "text/x-python",
   "name": "python",
   "nbconvert_exporter": "python",
   "pygments_lexer": "ipython3",
   "version": "3.11.5"
  }
 },
 "nbformat": 4,
 "nbformat_minor": 1
}
